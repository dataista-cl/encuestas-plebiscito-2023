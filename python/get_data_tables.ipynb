{
 "cells": [
  {
   "cell_type": "code",
   "execution_count": 1,
   "id": "2aab31fc",
   "metadata": {},
   "outputs": [],
   "source": [
    "import requests\n",
    "from bs4 import BeautifulSoup\n",
    "import pandas as pd"
   ]
  },
  {
   "cell_type": "code",
   "execution_count": 13,
   "id": "9d4b2736",
   "metadata": {},
   "outputs": [],
   "source": [
    "def get_data_from_wiki_url(url):\n",
    "\n",
    "    res = requests.get(url).text\n",
    "    soup = BeautifulSoup(res,'lxml')\n",
    "    tables = soup.find_all('table', class_='wikitable')\n",
    "\n",
    "    encuestas = []\n",
    "\n",
    "    for table in tables:\n",
    "        for items in table.find_all('tr'):\n",
    "            data = items.find_all(['td'])\n",
    "            try:\n",
    "                elements = []\n",
    "                elements.append(data[0].text.strip().replace('-', '—').replace('—', '–'))\n",
    "                elements.append(data[1].text.strip())\n",
    "                elements.append(data[2].text.strip().strip(\"%\").replace(\",\", \".\").replace('—',''))\n",
    "                elements.append(data[3].text.strip().strip(\"%\").replace(\",\", \".\").replace('—',''))\n",
    "                elements.append(data[4].text.strip().strip(\"%\").replace(\",\", \".\").replace('—',''))\n",
    "                elements.append(data[5].text.strip().replace(\".\", '').replace('—',''))\n",
    "                encuestas.append(elements)\n",
    "            except IndexError:pass\n",
    "\n",
    "    df = pd.DataFrame(encuestas, columns=['fecha', 'encuesta', 'a favor', 'en contra', 'nsnr', 'casos'])\n",
    "\n",
    "    return df\n",
    "\n"
   ]
  },
  {
   "cell_type": "code",
   "execution_count": 14,
   "id": "ff9beca0",
   "metadata": {},
   "outputs": [],
   "source": [
    "url = \"https://es.wikipedia.org/wiki/Plebiscito_constitucional_de_Chile_de_2023\"\n",
    "plebiscito = get_data_from_wiki_url(url)\n",
    "plebiscito.to_csv('../data/encuestas_plebiscito_2023.csv', index=False)"
   ]
  },
  {
   "cell_type": "code",
   "execution_count": 15,
   "id": "6ce1733d",
   "metadata": {},
   "outputs": [
    {
     "data": {
      "text/plain": [
       "0     24–mar\n",
       "1      5–abr\n",
       "2     11–may\n",
       "3     26–may\n",
       "4      2–jun\n",
       "5      5–jun\n",
       "6      9–jun\n",
       "7     16–jun\n",
       "8     23–jun\n",
       "9     30–jun\n",
       "10    30–jun\n",
       "11     4–jul\n",
       "12     7–jul\n",
       "13    21–jul\n",
       "14    28–jul\n",
       "15     8–ago\n",
       "16    25–ago\n",
       "17    31–ago\n",
       "18     1–sep\n",
       "19     5–sep\n",
       "20    15–sep\n",
       "21    22–sep\n",
       "22    29–sep\n",
       "23     1–oct\n",
       "24     6–oct\n",
       "25    13–oct\n",
       "26    20–oct\n",
       "27    26–oct\n",
       "Name: fecha, dtype: object"
      ]
     },
     "execution_count": 15,
     "metadata": {},
     "output_type": "execute_result"
    }
   ],
   "source": [
    "plebiscito['fecha']"
   ]
  },
  {
   "cell_type": "code",
   "execution_count": null,
   "id": "f72a6b05",
   "metadata": {},
   "outputs": [],
   "source": []
  }
 ],
 "metadata": {
  "kernelspec": {
   "display_name": "Python 3",
   "language": "python",
   "name": "python3"
  },
  "language_info": {
   "codemirror_mode": {
    "name": "ipython",
    "version": 3
   },
   "file_extension": ".py",
   "mimetype": "text/x-python",
   "name": "python",
   "nbconvert_exporter": "python",
   "pygments_lexer": "ipython3",
   "version": "3.8.16"
  }
 },
 "nbformat": 4,
 "nbformat_minor": 5
}
